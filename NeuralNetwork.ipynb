{
 "cells": [
  {
   "cell_type": "markdown",
   "metadata": {},
   "source": [
    "# Neural Network"
   ]
  },
  {
   "cell_type": "code",
   "execution_count": 28,
   "metadata": {},
   "outputs": [],
   "source": [
    "import numpy as np\n",
    "import pandas as pd\n",
    "import matplotlib.pyplot as plt\n",
    "import matplotlib.cm as cm\n",
    "from scipy.io import loadmat\n",
    "from scipy.optimize import minimize\n",
    "import math\n",
    "\n",
    "%matplotlib inline\n",
    "plt.rcParams['figure.figsize'] = (10, 7)\n",
    "np.set_printoptions(suppress = True)"
   ]
  },
  {
   "cell_type": "markdown",
   "metadata": {},
   "source": [
    "## Implement a neural network"
   ]
  },
  {
   "cell_type": "markdown",
   "metadata": {},
   "source": [
    "#### Import data"
   ]
  },
  {
   "cell_type": "code",
   "execution_count": 29,
   "metadata": {},
   "outputs": [
    {
     "name": "stdout",
     "output_type": "stream",
     "text": [
      "5000 401\n"
     ]
    }
   ],
   "source": [
    "data = loadmat('data/ex4data1.mat')\n",
    "\n",
    "X = np.c_[np.ones(data['X'].shape[0]), data['X']]\n",
    "y = data['y']\n",
    "\n",
    "m = X.shape[0] # Number of training examples\n",
    "n = X.shape[1] # Number of features including the bias unit\n",
    "\n",
    "print(m, n)"
   ]
  },
  {
   "cell_type": "markdown",
   "metadata": {},
   "source": [
    "#### Visualize data"
   ]
  },
  {
   "cell_type": "code",
   "execution_count": 30,
   "metadata": {},
   "outputs": [
    {
     "data": {
      "image/png": "[encoded data removed]",
      "text/plain": [
       "<matplotlib.figure.Figure at 0x1ca5f6b4c88>"
      ]
     },
     "metadata": {},
     "output_type": "display_data"
    }
   ],
   "source": [
    "sample = np.random.randint(0, X.shape[0] + 1, 10)\n",
    "plot = X[sample, 1:].reshape(-1, 20).T\n",
    "img = plt.imshow(plot, cmap = cm.Greys_r)"
   ]
  },
  {
   "cell_type": "markdown",
   "metadata": {},
   "source": [
    "#### Import pre-trained weights"
   ]
  },
  {
   "cell_type": "code",
   "execution_count": 31,
   "metadata": {},
   "outputs": [
    {
     "name": "stdout",
     "output_type": "stream",
     "text": [
      "(25, 401)\n",
      "(10, 26)\n"
     ]
    }
   ],
   "source": [
    "weights = loadmat('data/ex4weights.mat')\n",
    "\n",
    "Theta1, Theta2 = weights['Theta1'], weights['Theta2']\n",
    "\n",
    "print(Theta1.shape)\n",
    "print(Theta2.shape)"
   ]
  },
  {
   "cell_type": "markdown",
   "metadata": {},
   "source": [
    "#### Feedforward propagation"
   ]
  },
  {
   "cell_type": "code",
   "execution_count": 32,
   "metadata": {},
   "outputs": [],
   "source": [
    "def sigmoid(x):\n",
    "    return 1 / (1 + np.exp(-x))\n",
    "\n",
    "def sig_gradient(z):\n",
    "    return sigmoid(z) * (1 - sigmoid(z))"
   ]
  },
  {
   "cell_type": "code",
   "execution_count": 40,
   "metadata": {},
   "outputs": [],
   "source": [
    "def randInitWeights(L_in, L_out):\n",
    "    eps = 0.12\n",
    "    return 2 * eps * np.random.random_sample((L_out, L_in + 1)) - eps"
   ]
  },
  {
   "cell_type": "code",
   "execution_count": 34,
   "metadata": {},
   "outputs": [],
   "source": [
    "def costFunc(params, input_layer_size, hidden_layer_size, num_labels, X, y, myLambda):\n",
    "    theta1 = params[0:( hidden_layer_size * (input_layer_size + 1) )].reshape( hidden_layer_size, (input_layer_size + 1) )\n",
    "    theta2 = params[( hidden_layer_size * (input_layer_size + 1) ):].reshape( num_labels, (hidden_layer_size + 1) )\n",
    "    \n",
    "    m = X.shape[0]\n",
    "    a1 = X\n",
    "    \n",
    "    z2 = theta1.dot(a1.T)\n",
    "    a2 = np.r_[np.ones((1, z2.shape[1])), sigmoid(z2)]\n",
    "    \n",
    "    z3 = theta2.dot(a2)\n",
    "    a3 = sigmoid(z3)\n",
    "    \n",
    "    Y = pd.get_dummies(y.ravel()).as_matrix()\n",
    "    \n",
    "    J = (-1/m) * np.trace( np.log(a3).dot( Y ) + np.log( 1 - a3 ).dot( ( 1 - Y ) ) ) + \\\n",
    "            ( myLambda/(2*m) ) * ( np.trace( (theta1[:,1:]).T.dot(theta1[:,1:]) ) + np.trace( (theta2[:,1:]).T.dot(theta2[:,1:]) ) )\n",
    "    \n",
    "    # Backpropagation\n",
    "    \n",
    "    delta3 = a3.T - Y \n",
    "    delta2 = theta2[:, 1:].T.dot(delta3.T) * sig_gradient(z2) \n",
    "\n",
    "    D1 = delta2.dot(a1) \n",
    "    D2 = delta3.T.dot(a2.T)\n",
    "\n",
    "    theta1_reg = np.c_[np.ones((theta1.shape[0],1)),theta1[:,1:]]\n",
    "    theta2_reg = np.c_[np.ones((theta2.shape[0],1)),theta2[:,1:]]\n",
    "    \n",
    "    theta1_grad = D1/m + (theta1_reg * myLambda)/m \n",
    "    theta2_grad= D2/m + (theta2_reg * myLambda)/m\n",
    "    \n",
    "    grad = np.r_[theta1_grad.ravel(), theta2_grad.ravel()]\n",
    "    \n",
    "    return (J, grad)"
   ]
  },
  {
   "cell_type": "markdown",
   "metadata": {},
   "source": [
    "#### Unregularized cost"
   ]
  },
  {
   "cell_type": "code",
   "execution_count": 35,
   "metadata": {},
   "outputs": [
    {
     "name": "stdout",
     "output_type": "stream",
     "text": [
      "0.28762916516131887\n"
     ]
    }
   ],
   "source": [
    "params = np.r_[Theta1.ravel(), Theta2.ravel()]\n",
    "u_cost = costFunc(params, Theta1.shape[1] - 1, Theta1.shape[0], Theta2.shape[0], X, y, 0)\n",
    "print(u_cost[0])"
   ]
  },
  {
   "cell_type": "markdown",
   "metadata": {},
   "source": [
    "#### Regularized cost"
   ]
  },
  {
   "cell_type": "code",
   "execution_count": 36,
   "metadata": {},
   "outputs": [
    {
     "name": "stdout",
     "output_type": "stream",
     "text": [
      "0.3837698590909236\n"
     ]
    }
   ],
   "source": [
    "r_cost = costFunc(params, Theta1.shape[1] - 1, Theta1.shape[0], Theta2.shape[0], X, y, 1)\n",
    "print(r_cost[0])"
   ]
  },
  {
   "cell_type": "markdown",
   "metadata": {},
   "source": [
    "## Backpropagation"
   ]
  },
  {
   "cell_type": "code",
   "execution_count": 37,
   "metadata": {},
   "outputs": [
    {
     "data": {
      "text/plain": [
       "array([[0.25     , 0.0000454, 0.       ],\n",
       "       [0.25     , 0.0000454, 0.       ]])"
      ]
     },
     "execution_count": 37,
     "metadata": {},
     "output_type": "execute_result"
    }
   ],
   "source": [
    "sig_gradient(np.array(([0, -10, 100], [0, 10, 100])))"
   ]
  },
  {
   "cell_type": "code",
   "execution_count": 41,
   "metadata": {},
   "outputs": [
    {
     "name": "stdout",
     "output_type": "stream",
     "text": [
      "[[-0.02200357 -0.04653905 -0.10362706]\n",
      " [-0.07160138  0.01622979  0.08353079]\n",
      " [-0.09829504 -0.01353803 -0.11995028]]\n"
     ]
    }
   ],
   "source": [
    "print (randInitWeights(2,3))"
   ]
  },
  {
   "cell_type": "code",
   "execution_count": 42,
   "metadata": {},
   "outputs": [],
   "source": [
    "def compute_numerical_gradient(theta, lmda):\n",
    "    eps = 10**(-4)\n",
    "    numgrad = np.zeros(theta.size)\n",
    "    perturb = np.zeros(theta.size)\n",
    "    \n",
    "    for i in range (0, theta.size):\n",
    "        perturb[i] = eps\n",
    "        J_plus = nn_cost_function(theta + perturb, Theta1.shape[1]-1, Theta1.shape[0], Theta2.shape[0], X, y, lmda)[0]\n",
    "        J_minus = nn_cost_function(theta - perturb, Theta1.shape[1]-1, Theta1.shape[0], Theta2.shape[0], X, y, lmda)[0]\n",
    "        numgrad[i] = ( J_plus - J_minus )/(2*eps)\n",
    "        perturb[i] = 0\n",
    "        \n",
    "    return numgrad"
   ]
  },
  {
   "cell_type": "code",
   "execution_count": 43,
   "metadata": {},
   "outputs": [],
   "source": [
    "def gradCheck(params, lmda):\n",
    "    \n",
    "    numgrad = compute_numerical_gradient(nn_params, lmda)\n",
    "    cost, grad = costFunc(params, Theta1.shape[1]-1, Theta1.shape[0], Theta2.shape[0], X, y, 0)\n",
    "    \n",
    "    return np.linalg.norm( numgrad - grad )/np.linalg.norm( numgrad + grad )"
   ]
  },
  {
   "cell_type": "code",
   "execution_count": 46,
   "metadata": {},
   "outputs": [],
   "source": [
    "theta1_0 = randInitWeights(400, 25)\n",
    "theta2_0 = randInitWeights(25, 10)\n",
    "theta_0 = np.r_[theta1_0.ravel(), theta2_0.ravel()]"
   ]
  },
  {
   "cell_type": "code",
   "execution_count": 48,
   "metadata": {},
   "outputs": [],
   "source": [
    "lmda = 1\n",
    "input_layer_size = 400\n",
    "hidden_layer_size = 25\n",
    "num_labels = 10\n",
    "nn = minimize( fun = costFunc, x0 = theta_0, \n",
    "              args = (input_layer_size, hidden_layer_size, num_labels, X, y, lmda), \n",
    "              method = 'CG', jac = True, options = {'maxiter' : 400} )"
   ]
  },
  {
   "cell_type": "code",
   "execution_count": 49,
   "metadata": {},
   "outputs": [
    {
     "data": {
      "text/plain": [
       "     fun: 0.3309071535497492\n",
       "     jac: array([ 0.00021758, -0.00000097,  0.00000085, ...,  0.00002362,\n",
       "        0.00000709,  0.00000815])\n",
       " message: 'Desired error not necessarily achieved due to precision loss.'\n",
       "    nfev: 623\n",
       "     nit: 226\n",
       "    njev: 611\n",
       "  status: 2\n",
       " success: False\n",
       "       x: array([-1.62233152, -0.00484192,  0.00422574, ...,  2.60147137,\n",
       "       -1.48272288,  2.38857853])"
      ]
     },
     "execution_count": 49,
     "metadata": {},
     "output_type": "execute_result"
    }
   ],
   "source": [
    "nn"
   ]
  },
  {
   "cell_type": "code",
   "execution_count": 50,
   "metadata": {},
   "outputs": [
    {
     "name": "stdout",
     "output_type": "stream",
     "text": [
      "(25, 401)\n"
     ]
    }
   ],
   "source": [
    "res_layer1 = nn.x[0:( hidden_layer_size * (input_layer_size + 1) )].reshape( hidden_layer_size, (input_layer_size + 1) )\n",
    "res_layer2 = nn.x[( hidden_layer_size * (input_layer_size + 1) ):].reshape( num_labels, (hidden_layer_size + 1) )\n",
    "\n",
    "print(res_layer1.shape)"
   ]
  },
  {
   "cell_type": "code",
   "execution_count": 51,
   "metadata": {},
   "outputs": [],
   "source": [
    "def predict_one_vs_all( Thetas, X ):\n",
    "    \n",
    "    probability = sigmoid( X.dot(Thetas.T) )\n",
    "    \n",
    "    return ( np.argmax( probability, axis = 1 ) + 1 )"
   ]
  },
  {
   "cell_type": "code",
   "execution_count": 52,
   "metadata": {},
   "outputs": [],
   "source": [
    "def predict( theta1, theta2, X ):\n",
    "    z2 = theta1.dot( X.T )\n",
    "    a2 = np.r_[ np.ones( (1, z2.shape[1]) ), sigmoid(z2) ].T\n",
    "    a3 = predict_one_vs_all( theta2, a2 )\n",
    "    return a3"
   ]
  },
  {
   "cell_type": "code",
   "execution_count": 53,
   "metadata": {},
   "outputs": [
    {
     "name": "stdout",
     "output_type": "stream",
     "text": [
      "99.42\n"
     ]
    }
   ],
   "source": [
    "tr_acc = np.mean( ( y.ravel() == predict( res_layer1, res_layer2, X ))*100 )\n",
    "print(tr_acc)"
   ]
  },
  {
   "cell_type": "markdown",
   "metadata": {},
   "source": [
    "## Visualize the hidden layer"
   ]
  },
  {
   "cell_type": "code",
   "execution_count": 54,
   "metadata": {},
   "outputs": [
    {
     "data": {
      "image/png": "[encoded data removed]",
      "text/plain": [
       "<matplotlib.figure.Figure at 0x1ca629077b8>"
      ]
     },
     "metadata": {},
     "output_type": "display_data"
    }
   ],
   "source": [
    "def viz_hidden_layer(layer1):\n",
    "    layer = Theta1[5:10,1:]\n",
    "    hl = layer.reshape(-1, 20).T\n",
    "    img = plt.imshow(hl, cmap = cm.Greys_r)\n",
    "    \n",
    "viz_hidden_layer(res_layer1)"
   ]
  },
  {
   "cell_type": "code",
   "execution_count": null,
   "metadata": {},
   "outputs": [],
   "source": []
  }
 ],
 "metadata": {
  "kernelspec": {
   "display_name": "Python 3",
   "language": "python",
   "name": "python3"
  },
  "language_info": {
   "codemirror_mode": {
    "name": "ipython",
    "version": 3
   },
   "file_extension": ".py",
   "mimetype": "text/x-python",
   "name": "python",
   "nbconvert_exporter": "python",
   "pygments_lexer": "ipython3",
   "version": "3.6.4"
  }
 },
 "nbformat": 4,
 "nbformat_minor": 2
}
